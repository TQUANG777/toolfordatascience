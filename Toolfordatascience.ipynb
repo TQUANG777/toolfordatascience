{
  "cells": [
    {
      "cell_type": "code",
      "execution_count": 2,
      "id": "81af6cbd-3c8f-44b9-9f1c-cf37f6107049",
      "metadata": {
        "trusted": true
      },
      "outputs": [],
      "source": [
        "# Data Science Final Project\n",
        "\n"
      ]
    },
    {
      "cell_type": "code",
      "execution_count": null,
      "id": "f044444e-e670-4e43-ba0b-14424ec666fb",
      "metadata": {
        "trusted": true
      },
      "outputs": [],
      "source": [
        "## Introduction\n",
        "\n",
        "#This notebook demonstrates basic data science concepts using Jupyterlite.\n",
        "#It covers topics like data science languages, libraries, tools, and arithmetic operations, providing examples to help understand each concept.\n"
      ]
    },
    {
      "cell_type": "code",
      "execution_count": null,
      "id": "8b80a46b-5b77-4927-ba1c-bc0d657c4f8a",
      "metadata": {
        "trusted": true
      },
      "outputs": [],
      "source": [
        "## Data Science Languages\n",
        "\n",
        "The following programming languages are commonly used in data science:\n",
        "- Python\n",
        "- R\n",
        "- SQL\n",
        "- Java\n",
        "- Scala\n"
      ]
    },
    {
      "cell_type": "code",
      "execution_count": null,
      "id": "9d9c22dd-2aba-43cb-b028-3fb43bd19423",
      "metadata": {
        "trusted": true
      },
      "outputs": [],
      "source": [
        "## Data Science Libraries\n",
        "\n",
        "Some widely used data science libraries are:\n",
        "- Pandas\n",
        "- NumPy\n",
        "- Matplotlib\n",
        "- Scikit-learn\n",
        "- TensorFlow\n",
        "- Keras\n"
      ]
    },
    {
      "cell_type": "code",
      "execution_count": null,
      "id": "d48ab6a9-da77-49bb-a35b-f0f9a4c881a1",
      "metadata": {
        "trusted": true
      },
      "outputs": [],
      "source": [
        "## Data Science Tools\n",
        "\n",
        "| Tool        | Description                             |\n",
        "|-------------|-----------------------------------------|\n",
        "| Jupyter     | Open-source web application for notebooks |\n",
        "| RStudio     | IDE for R programming                   |\n",
        "| GitHub      | Version control and code repository     |\n",
        "| Tableau     | Data visualization tool                 |\n",
        "| Apache Spark| Open-source data processing engine      |\n"
      ]
    },
    {
      "cell_type": "code",
      "execution_count": null,
      "id": "639099f0-1d50-4c9f-a89a-45cc5c4a0e74",
      "metadata": {
        "trusted": true
      },
      "outputs": [],
      "source": [
        "## Arithmetic Expressions Examples\n",
        "\n",
        "In this section, we will demonstrate basic arithmetic operations such as addition, subtraction, multiplication, and division.\n"
      ]
    },
    {
      "cell_type": "code",
      "execution_count": 3,
      "id": "987ad880-4a15-4166-9182-4209faac15d8",
      "metadata": {
        "trusted": true
      },
      "outputs": [
        {
          "data": {
            "text/plain": [
              "(50, 15)"
            ]
          },
          "execution_count": 3,
          "metadata": {},
          "output_type": "execute_result"
        }
      ],
      "source": [
        "# Multiply and add numbers\n",
        "a = 5\n",
        "b = 10\n",
        "result_multiply = a * b\n",
        "result_add = a + b\n",
        "\n",
        "result_multiply, result_add\n"
      ]
    },
    {
      "cell_type": "code",
      "execution_count": 4,
      "id": "d54d35b5-9c40-4ff0-8cfb-77d8ef0df123",
      "metadata": {
        "trusted": true
      },
      "outputs": [
        {
          "data": {
            "text/plain": [
              "2.0"
            ]
          },
          "execution_count": 4,
          "metadata": {},
          "output_type": "execute_result"
        }
      ],
      "source": [
        "# Convert minutes to hours\n",
        "def convert_minutes_to_hours(minutes):\n",
        "    return minutes / 60\n",
        "\n",
        "minutes = 120\n",
        "hours = convert_minutes_to_hours(minutes)\n",
        "hours\n"
      ]
    },
    {
      "cell_type": "code",
      "execution_count": null,
      "id": "f4ed4c1f-cc9d-4f56-8833-0de39a00809a",
      "metadata": {
        "trusted": true
      },
      "outputs": [],
      "source": [
        "## Objectives\n",
        "\n",
        "- Understand basic data science concepts\n",
        "- Learn about data science languages and libraries\n",
        "- Demonstrate arithmetic operations using Python\n",
        "- Use Jupyterlite for interactive code execution\n"
      ]
    },
    {
      "cell_type": "code",
      "execution_count": null,
      "id": "5785c889-8612-4b52-bc2b-b84f7c254f5b",
      "metadata": {
        "trusted": true
      },
      "outputs": [],
      "source": [
        "## Author\n",
        "\n",
        "This notebook was created by NGUYEN QUANG.\n"
      ]
    }
  ],
  "metadata": {
    "kernelspec": {
      "display_name": "Python (Pyodide)",
      "language": "python",
      "name": "python"
    },
    "language_info": {
      "codemirror_mode": {
        "name": "python",
        "version": 3
      },
      "file_extension": ".py",
      "mimetype": "text/x-python",
      "name": "python",
      "nbconvert_exporter": "python",
      "pygments_lexer": "ipython3",
      "version": "3.8"
    }
  },
  "nbformat": 4,
  "nbformat_minor": 5
}
